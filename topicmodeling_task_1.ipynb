{
 "cells": [
  {
   "cell_type": "code",
   "execution_count": null,
   "metadata": {},
   "outputs": [],
   "source": []
  },
  {
   "cell_type": "code",
   "execution_count": 13,
   "metadata": {},
   "outputs": [],
   "source": [
    "import numpy as np\n",
    "import pandas as pd\n"
   ]
  },
  {
   "cell_type": "code",
   "execution_count": 14,
   "metadata": {},
   "outputs": [],
   "source": [
    "#file reading\n",
    "df = pd.read_csv(r'C:\\\\Users\\\\Gaurav\\anandsir.csv')"
   ]
  },
  {
   "cell_type": "code",
   "execution_count": 15,
   "metadata": {},
   "outputs": [
    {
     "data": {
      "text/html": [
       "<div>\n",
       "<style scoped>\n",
       "    .dataframe tbody tr th:only-of-type {\n",
       "        vertical-align: middle;\n",
       "    }\n",
       "\n",
       "    .dataframe tbody tr th {\n",
       "        vertical-align: top;\n",
       "    }\n",
       "\n",
       "    .dataframe thead th {\n",
       "        text-align: right;\n",
       "    }\n",
       "</style>\n",
       "<table border=\"1\" class=\"dataframe\">\n",
       "  <thead>\n",
       "    <tr style=\"text-align: right;\">\n",
       "      <th></th>\n",
       "      <th>Abstract</th>\n",
       "    </tr>\n",
       "  </thead>\n",
       "  <tbody>\n",
       "    <tr>\n",
       "      <th>0</th>\n",
       "      <td>A multi-user computer system having methods wh...</td>\n",
       "    </tr>\n",
       "    <tr>\n",
       "      <th>1</th>\n",
       "      <td>A method for manufacturing a tapered rectangul...</td>\n",
       "    </tr>\n",
       "    <tr>\n",
       "      <th>2</th>\n",
       "      <td>Boring bar vibration damping is improved by a ...</td>\n",
       "    </tr>\n",
       "    <tr>\n",
       "      <th>3</th>\n",
       "      <td>A compound selected from those of formula (I):...</td>\n",
       "    </tr>\n",
       "    <tr>\n",
       "      <th>4</th>\n",
       "      <td>A method and apparatus for measuring the metal...</td>\n",
       "    </tr>\n",
       "  </tbody>\n",
       "</table>\n",
       "</div>"
      ],
      "text/plain": [
       "                                            Abstract\n",
       "0  A multi-user computer system having methods wh...\n",
       "1  A method for manufacturing a tapered rectangul...\n",
       "2  Boring bar vibration damping is improved by a ...\n",
       "3  A compound selected from those of formula (I):...\n",
       "4  A method and apparatus for measuring the metal..."
      ]
     },
     "execution_count": 15,
     "metadata": {},
     "output_type": "execute_result"
    }
   ],
   "source": [
    "#print dataframe top 5 rows\n",
    "df.head()"
   ]
  },
  {
   "cell_type": "code",
   "execution_count": 16,
   "metadata": {},
   "outputs": [
    {
     "data": {
      "text/html": [
       "<div>\n",
       "<style scoped>\n",
       "    .dataframe tbody tr th:only-of-type {\n",
       "        vertical-align: middle;\n",
       "    }\n",
       "\n",
       "    .dataframe tbody tr th {\n",
       "        vertical-align: top;\n",
       "    }\n",
       "\n",
       "    .dataframe thead th {\n",
       "        text-align: right;\n",
       "    }\n",
       "</style>\n",
       "<table border=\"1\" class=\"dataframe\">\n",
       "  <thead>\n",
       "    <tr style=\"text-align: right;\">\n",
       "      <th></th>\n",
       "      <th>Abstract</th>\n",
       "    </tr>\n",
       "  </thead>\n",
       "  <tbody>\n",
       "    <tr>\n",
       "      <th>0</th>\n",
       "      <td>A multi-user computer system having methods wh...</td>\n",
       "    </tr>\n",
       "    <tr>\n",
       "      <th>1</th>\n",
       "      <td>A method for manufacturing a tapered rectangul...</td>\n",
       "    </tr>\n",
       "    <tr>\n",
       "      <th>2</th>\n",
       "      <td>Boring bar vibration damping is improved by a ...</td>\n",
       "    </tr>\n",
       "    <tr>\n",
       "      <th>3</th>\n",
       "      <td>A compound selected from those of formula (I):...</td>\n",
       "    </tr>\n",
       "    <tr>\n",
       "      <th>4</th>\n",
       "      <td>A method and apparatus for measuring the metal...</td>\n",
       "    </tr>\n",
       "    <tr>\n",
       "      <th>...</th>\n",
       "      <td>...</td>\n",
       "    </tr>\n",
       "    <tr>\n",
       "      <th>95</th>\n",
       "      <td>A stabilized liquid emulsifiable concentrate f...</td>\n",
       "    </tr>\n",
       "    <tr>\n",
       "      <th>96</th>\n",
       "      <td>A method of fabricating rotary bits for subter...</td>\n",
       "    </tr>\n",
       "    <tr>\n",
       "      <th>97</th>\n",
       "      <td>Coupling execution of channel programs without...</td>\n",
       "    </tr>\n",
       "    <tr>\n",
       "      <th>98</th>\n",
       "      <td>An apparatus is disclosed for providing more u...</td>\n",
       "    </tr>\n",
       "    <tr>\n",
       "      <th>99</th>\n",
       "      <td>A soda dispensing assembly is provided includi...</td>\n",
       "    </tr>\n",
       "  </tbody>\n",
       "</table>\n",
       "<p>100 rows × 1 columns</p>\n",
       "</div>"
      ],
      "text/plain": [
       "                                             Abstract\n",
       "0   A multi-user computer system having methods wh...\n",
       "1   A method for manufacturing a tapered rectangul...\n",
       "2   Boring bar vibration damping is improved by a ...\n",
       "3   A compound selected from those of formula (I):...\n",
       "4   A method and apparatus for measuring the metal...\n",
       "..                                                ...\n",
       "95  A stabilized liquid emulsifiable concentrate f...\n",
       "96  A method of fabricating rotary bits for subter...\n",
       "97  Coupling execution of channel programs without...\n",
       "98  An apparatus is disclosed for providing more u...\n",
       "99  A soda dispensing assembly is provided includi...\n",
       "\n",
       "[100 rows x 1 columns]"
      ]
     },
     "execution_count": 16,
     "metadata": {},
     "output_type": "execute_result"
    }
   ],
   "source": [
    "df"
   ]
  },
  {
   "cell_type": "code",
   "execution_count": 1,
   "metadata": {},
   "outputs": [],
   "source": [
    "# text file loading\n",
    "myfile=open('f11.txt',encoding=\"utf8\")\n",
    "text=myfile.read()"
   ]
  },
  {
   "cell_type": "code",
   "execution_count": 2,
   "metadata": {},
   "outputs": [],
   "source": [
    "# import a tfidf vectorizer model\n",
    "from sklearn.feature_extraction.text import TfidfVectorizer\n",
    "import re \n",
    "\n",
    "#deleting digits in the file\n",
    "my=re.findall(r\"[^\\d]+\",text)\n",
    "x=' '.join(my)\n"
   ]
  },
  {
   "cell_type": "code",
   "execution_count": 3,
   "metadata": {},
   "outputs": [],
   "source": [
    "# deleting special keywords \n",
    "me=re.findall(r\"[^!.&%$@/\\,]+\",x)\n",
    "y=' '.join(my)"
   ]
  },
  {
   "cell_type": "code",
   "execution_count": 4,
   "metadata": {},
   "outputs": [],
   "source": [
    "import pandas as pd\n",
    "\n",
    "#creating TfidfVectorizer instance and also removing the stop words,the words that occured just once\n",
    "#Also remove words that occured more than 99% of the words in the text file\n",
    "tfidf=TfidfVectorizer(max_df=0.99,min_df=2,stop_words='english',ngram_range=(1,3))\n",
    "\n",
    "#splitting the text into 4 rows of the dt['col'] so that the error max_df < min_df gets solved\n",
    "data= { 'col':[y[:500]]}\n",
    "\n",
    "dt=pd.DataFrame(data)\n",
    "\n",
    "dt['col'][1]=y[500:1000]\n",
    "dt['col'][2]=y[1000:1500]\n",
    "dt['col'][3]=y[1500:]"
   ]
  },
  {
   "cell_type": "code",
   "execution_count": 5,
   "metadata": {},
   "outputs": [],
   "source": [
    "#creating a document term matrix depicting the frequency of the words\n",
    "dtm=tfidf.fit_transform(dt['col'])\n"
   ]
  },
  {
   "cell_type": "code",
   "execution_count": null,
   "metadata": {},
   "outputs": [],
   "source": []
  },
  {
   "cell_type": "code",
   "execution_count": 6,
   "metadata": {},
   "outputs": [
    {
     "data": {
      "text/plain": [
       "<4x66 sparse matrix of type '<class 'numpy.float64'>'\n",
       "\twith 144 stored elements in Compressed Sparse Row format>"
      ]
     },
     "execution_count": 6,
     "metadata": {},
     "output_type": "execute_result"
    }
   ],
   "source": [
    "dtm"
   ]
  },
  {
   "cell_type": "code",
   "execution_count": 8,
   "metadata": {},
   "outputs": [
    {
     "data": {
      "text/plain": [
       "66"
      ]
     },
     "execution_count": 8,
     "metadata": {},
     "output_type": "execute_result"
    }
   ],
   "source": [
    "#Import Non-Negative matrix factorization Algorithm package\n",
    "# NMF decomposes data matrix V as a product of 2 lower rank matrices W and H\n",
    "#(NMF uses an iterative procedure to modify W and H so that their product approaches to V)\n",
    "from sklearn.decomposition import NMF\n",
    "len(tfidf.get_feature_names())"
   ]
  },
  {
   "cell_type": "code",
   "execution_count": 12,
   "metadata": {},
   "outputs": [],
   "source": [
    "#creating NMF model to predict 20 topics (labelled 0 to 19)\n",
    "model=NMF(n_components=10,random_state=42)"
   ]
  },
  {
   "cell_type": "code",
   "execution_count": 13,
   "metadata": {},
   "outputs": [
    {
     "data": {
      "text/plain": [
       "NMF(alpha=0.0, beta_loss='frobenius', init=None, l1_ratio=0.0, max_iter=200,\n",
       "    n_components=10, random_state=42, shuffle=False, solver='cd', tol=0.0001,\n",
       "    verbose=0)"
      ]
     },
     "execution_count": 13,
     "metadata": {},
     "output_type": "execute_result"
    }
   ],
   "source": [
    "# fit the document term matrix to the created model.\n",
    "model.fit(dtm)"
   ]
  },
  {
   "cell_type": "code",
   "execution_count": 15,
   "metadata": {},
   "outputs": [
    {
     "name": "stdout",
     "output_type": "stream",
     "text": [
      "The top 15 words for topic 0\n",
      "['file processing', 'provide', 'single', 'disk file', 'storing', 'information', 'information files', 'files', 'plurality', 'includes']\n",
      "The top 15 words for topic 1\n",
      "['single disk file', 'single', 'disk file', 'block', 'disk', 'storage block', 'files', 'information files', 'information', 'file']\n",
      "The top 15 words for topic 2\n",
      "['comprising', 'second', 'member', 'number', 'form', 'thickness', 'raw', 'forming', 'rectangular', 'pipe']\n",
      "The top 15 words for topic 3\n",
      "['manner', 'having', 'include', 'provides', 'information', 'file', 'location', 'data', 'desired', 'steps']\n",
      "The top 15 words for topic 4\n",
      "['output', 'storing plurality', 'information files', 'improved', 'disk', 'methods', 'input output', 'uniform', 'described', 'storing']\n",
      "The top 15 words for topic 5\n",
      "['comprising', 'operation', 'form', 'number', 'plurality', 'information', 'having', 'member', 'second', 'includes']\n",
      "The top 15 words for topic 6\n",
      "['equal', 'computer', 'comprising', 'operation', 'member', 'data', 'second', 'provides', 'includes', 'having']\n",
      "The top 15 words for topic 7\n",
      "['steps', 'having', 'location', 'provides', 'data', 'include', 'equal', 'manner', 'information', 'desired']\n",
      "The top 15 words for topic 8\n",
      "['reduced', 'file', 'required', 'step', 'total', 'operations', 'file processing', 'processing', 'pipe', 'rectangular']\n",
      "The top 15 words for topic 9\n",
      "['single disk', 'desired', 'retrieving', 'single', 'storage', 'method provides', 'storage block', 'size', 'information', 'file']\n"
     ]
    }
   ],
   "source": [
    "# printing the top 15 words for each of the 20 topics\n",
    "\n",
    "for index, topic in enumerate(model.components_):\n",
    "    print(f\"The top 15 words for topic {index}\")\n",
    "    print([tfidf.get_feature_names()[i] for i in topic.argsort()[-10:]])\n",
    "\n"
   ]
  },
  {
   "cell_type": "code",
   "execution_count": null,
   "metadata": {},
   "outputs": [],
   "source": [
    "# # ************************** CODE TO GET 2-WORD PHRASES  ****************************\n",
    "\n",
    "# from sklearn.feature_extraction.text import CountVectorizer\n",
    "# import pandas as pd\n",
    "# cv2=CountVectorizer(max_df=0.95,min_df=2,stop_words='english',ngram_range=(2,2))\n",
    "\n",
    "# data= { 'col':[y[:500]]}\n",
    "\n",
    "# dt=pd.DataFrame(data)\n",
    "\n",
    "# dt['col'][1]=y[500:1000]\n",
    "# dt['col'][2]=y[1000:1500]\n",
    "# dt['col'][3]=y[1500:]\n",
    "\n",
    "\n",
    "# dtm2=cv2.fit_transform(dt['col'])\n",
    "# from sklearn.decomposition import LatentDirichletAllocation\n",
    "# LDA2=LatentDirichletAllocation(n_components=15,random_state=42)\n",
    "# LDA2.fit(dtm2)\n",
    "# #(cv2.get_feature_names())\n",
    "# for index, topic in enumerate(LDA2.components_):\n",
    "#     print(f\"The top 15 words for topic {index}\")\n",
    "#     print([cv2.get_feature_names()[i] for i in topic.argsort()[-5:]])"
   ]
  },
  {
   "cell_type": "code",
   "execution_count": null,
   "metadata": {},
   "outputs": [],
   "source": []
  },
  {
   "cell_type": "code",
   "execution_count": null,
   "metadata": {},
   "outputs": [],
   "source": []
  },
  {
   "cell_type": "code",
   "execution_count": null,
   "metadata": {},
   "outputs": [],
   "source": []
  },
  {
   "cell_type": "code",
   "execution_count": null,
   "metadata": {},
   "outputs": [],
   "source": []
  },
  {
   "cell_type": "code",
   "execution_count": null,
   "metadata": {},
   "outputs": [],
   "source": []
  },
  {
   "cell_type": "code",
   "execution_count": null,
   "metadata": {},
   "outputs": [],
   "source": []
  },
  {
   "cell_type": "code",
   "execution_count": null,
   "metadata": {},
   "outputs": [],
   "source": []
  },
  {
   "cell_type": "code",
   "execution_count": null,
   "metadata": {},
   "outputs": [],
   "source": []
  },
  {
   "cell_type": "code",
   "execution_count": null,
   "metadata": {},
   "outputs": [],
   "source": []
  },
  {
   "cell_type": "code",
   "execution_count": null,
   "metadata": {},
   "outputs": [],
   "source": []
  },
  {
   "cell_type": "code",
   "execution_count": null,
   "metadata": {},
   "outputs": [],
   "source": [
    "\n"
   ]
  },
  {
   "cell_type": "code",
   "execution_count": null,
   "metadata": {},
   "outputs": [],
   "source": []
  },
  {
   "cell_type": "code",
   "execution_count": null,
   "metadata": {},
   "outputs": [],
   "source": []
  },
  {
   "cell_type": "code",
   "execution_count": null,
   "metadata": {},
   "outputs": [],
   "source": []
  },
  {
   "cell_type": "code",
   "execution_count": null,
   "metadata": {},
   "outputs": [],
   "source": []
  },
  {
   "cell_type": "code",
   "execution_count": null,
   "metadata": {},
   "outputs": [],
   "source": []
  },
  {
   "cell_type": "code",
   "execution_count": null,
   "metadata": {},
   "outputs": [],
   "source": []
  },
  {
   "cell_type": "code",
   "execution_count": null,
   "metadata": {},
   "outputs": [],
   "source": []
  },
  {
   "cell_type": "code",
   "execution_count": null,
   "metadata": {},
   "outputs": [],
   "source": []
  },
  {
   "cell_type": "code",
   "execution_count": null,
   "metadata": {},
   "outputs": [],
   "source": []
  },
  {
   "cell_type": "code",
   "execution_count": null,
   "metadata": {},
   "outputs": [],
   "source": []
  },
  {
   "cell_type": "code",
   "execution_count": null,
   "metadata": {},
   "outputs": [],
   "source": []
  },
  {
   "cell_type": "code",
   "execution_count": null,
   "metadata": {},
   "outputs": [],
   "source": []
  },
  {
   "cell_type": "code",
   "execution_count": null,
   "metadata": {},
   "outputs": [],
   "source": []
  },
  {
   "cell_type": "code",
   "execution_count": null,
   "metadata": {},
   "outputs": [],
   "source": []
  },
  {
   "cell_type": "code",
   "execution_count": null,
   "metadata": {},
   "outputs": [],
   "source": []
  },
  {
   "cell_type": "code",
   "execution_count": null,
   "metadata": {},
   "outputs": [],
   "source": []
  },
  {
   "cell_type": "code",
   "execution_count": null,
   "metadata": {},
   "outputs": [],
   "source": []
  },
  {
   "cell_type": "code",
   "execution_count": null,
   "metadata": {},
   "outputs": [],
   "source": []
  }
 ],
 "metadata": {
  "kernelspec": {
   "display_name": "Python 3",
   "language": "python",
   "name": "python3"
  },
  "language_info": {
   "codemirror_mode": {
    "name": "ipython",
    "version": 3
   },
   "file_extension": ".py",
   "mimetype": "text/x-python",
   "name": "python",
   "nbconvert_exporter": "python",
   "pygments_lexer": "ipython3",
   "version": "3.7.6"
  }
 },
 "nbformat": 4,
 "nbformat_minor": 4
}
